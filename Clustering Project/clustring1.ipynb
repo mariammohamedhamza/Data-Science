{
 "cells": [
  {
   "cell_type": "code",
   "execution_count": null,
   "id": "fd8294a7",
   "metadata": {},
   "outputs": [],
   "source": [
    "import pandas as pd\n",
    "from sklearn.preprocessing import LabelEncoder\n",
    "import seaborn as sns\n",
    "import matplotlib.pyplot as plt\n",
    "from sklearn.preprocessing import RobustScaler\n",
    "\n",
    "import umap.umap_ as umap\n",
    "from sklearn.manifold import TSNE\n",
    "from sklearn.cluster import KMeans, DBSCAN"
   ]
  },
  {
   "cell_type": "code",
   "execution_count": null,
   "id": "b474498e",
   "metadata": {},
   "outputs": [],
   "source": [
    "df=pd.read_csv('/content/bank-full_clustring.csv.zip')"
   ]
  },
  {
   "cell_type": "code",
   "execution_count": null,
   "id": "426997ea",
   "metadata": {},
   "outputs": [],
   "source": [
    "df.head()"
   ]
  },
  {
   "cell_type": "code",
   "execution_count": null,
   "id": "e952bd89",
   "metadata": {},
   "outputs": [],
   "source": [
    "df.shape"
   ]
  },
  {
   "cell_type": "code",
   "execution_count": null,
   "id": "ca08dca4",
   "metadata": {},
   "outputs": [],
   "source": [
    "data =df.copy()"
   ]
  },
  {
   "cell_type": "code",
   "execution_count": null,
   "id": "add25821",
   "metadata": {},
   "outputs": [],
   "source": [
    "df.info()"
   ]
  },
  {
   "cell_type": "code",
   "execution_count": null,
   "id": "7e242c42",
   "metadata": {},
   "outputs": [],
   "source": [
    "######### ' DATA CLEANING '  #########"
   ]
  },
  {
   "cell_type": "code",
   "execution_count": null,
   "id": "acb20b87",
   "metadata": {},
   "outputs": [],
   "source": [
    "df.isna().sum()   #no missing data"
   ]
  },
  {
   "cell_type": "code",
   "execution_count": null,
   "id": "4e6fb8a5",
   "metadata": {},
   "outputs": [],
   "source": [
    "df.drop_duplicates"
   ]
  },
  {
   "cell_type": "code",
   "execution_count": null,
   "id": "b3fa110d",
   "metadata": {},
   "outputs": [],
   "source": [
    "df.drop('subscribed',axis=True,inplace=True)         #Clustering"
   ]
  },
  {
   "cell_type": "code",
   "execution_count": null,
   "id": "0fec64ab",
   "metadata": {},
   "outputs": [],
   "source": [
    "binary_cols = ['default', 'housing', 'loan']\n",
    "\n",
    "le = LabelEncoder()\n",
    "\n",
    "for col in binary_cols:                  # only two values\n",
    "    df[col] = le.fit_transform(df[col])  # Yes → 1, No → 0"
   ]
  },
  {
   "cell_type": "code",
   "execution_count": null,
   "id": "3ff3ab96",
   "metadata": {},
   "outputs": [],
   "source": [
    "df['education'] = le.fit_transform(df['education'])   #more than 2\n",
    "df['month'] = le.fit_transform(df['month'])"
   ]
  },
  {
   "cell_type": "code",
   "execution_count": null,
   "id": "ba7d291a",
   "metadata": {},
   "outputs": [],
   "source": [
    "df = pd.get_dummies(df, columns=['job', 'marital', 'contact', 'day_of_week', 'poutcome'])   #there is no rating"
   ]
  },
  {
   "cell_type": "code",
   "execution_count": null,
   "id": "df77f919",
   "metadata": {},
   "outputs": [],
   "source": [
    "binary_cols = ['contact_cellular','contact_telephone','day_of_week_fri','day_of_week_mon','day_of_week_thu','day_of_week_tue','day_of_week_wed','poutcome_failure','poutcome_nonexistent','poutcome_success']\n",
    "\n",
    "\n",
    "le = LabelEncoder()\n",
    "\n",
    "for col in binary_cols:                  # only two values\n",
    "    df[col] = le.fit_transform(df[col])"
   ]
  },
  {
   "cell_type": "code",
   "execution_count": null,
   "id": "eee27e5e",
   "metadata": {},
   "outputs": [],
   "source": [
    "df.head()"
   ]
  },
  {
   "cell_type": "code",
   "execution_count": null,
   "id": "f8df6b3f",
   "metadata": {},
   "outputs": [],
   "source": [
    "numeric_cols = df.select_dtypes(include=[\"int64\", \"float64\"]).columns\n",
    "\n",
    "df_melted = df[numeric_cols].melt(var_name='Feature', value_name='Value')\n",
    "\n",
    "plt.figure(figsize=(11, 8))\n",
    "sns.boxplot(x='Feature', y='Value', data=df_melted)\n",
    "plt.xticks(rotation=45)\n",
    "plt.title(\"Boxplot of All Numeric Features\")\n",
    "plt.tight_layout()\n",
    "plt.show()"
   ]
  },
  {
   "cell_type": "code",
   "execution_count": null,
   "id": "cbc3edc9",
   "metadata": {},
   "outputs": [],
   "source": [
    "numeric_cols = df.select_dtypes(include=[\"int64\", \"float64\"]).columns\n",
    "scaler = RobustScaler()\n",
    "df[numeric_cols] = scaler.fit_transform(df[numeric_cols])       #scalling"
   ]
  },
  {
   "cell_type": "code",
   "execution_count": null,
   "id": "bdd42b75",
   "metadata": {},
   "outputs": [],
   "source": [
    "df.head()"
   ]
  },
  {
   "cell_type": "code",
   "execution_count": null,
   "id": "3bff9744",
   "metadata": {},
   "outputs": [],
   "source": [
    "########### ' EDA ' ###########"
   ]
  },
  {
   "cell_type": "code",
   "execution_count": null,
   "id": "aed624c4",
   "metadata": {},
   "outputs": [],
   "source": [
    "corr_matrix = df.corr(numeric_only=True)\n",
    "plt.figure(figsize=(25, 8))\n",
    "sns.heatmap(corr_matrix, annot=True, cmap='coolwarm', fmt=\".2f\")\n",
    "plt.title(\"Correlation Matrix\")\n",
    "plt.show()"
   ]
  },
  {
   "cell_type": "code",
   "execution_count": null,
   "id": "dd4b7a27",
   "metadata": {},
   "outputs": [],
   "source": [
    "######### ' modling ' #########"
   ]
  },
  {
   "cell_type": "code",
   "execution_count": null,
   "id": "069c5420",
   "metadata": {},
   "outputs": [],
   "source": [
    "tsne = TSNE(n_components=2, random_state=42, perplexity=30, learning_rate=200)\n",
    "tsne_result = tsne.fit_transform(df)\n",
    "df_tsne = pd.DataFrame(tsne_result, columns=['TSNE-1', 'TSNE-2'])"
   ]
  },
  {
   "cell_type": "code",
   "execution_count": null,
   "id": "0e74bc21",
   "metadata": {},
   "outputs": [],
   "source": [
    "plt.figure(figsize=(8, 6))\n",
    "plt.title(\"t-SNE projection\")\n",
    "sns.scatterplot(x='TSNE-1', y='TSNE-2', data=df_tsne, s=40, alpha=0.7)\n",
    "plt.show()"
   ]
  },
  {
   "cell_type": "code",
   "execution_count": null,
   "id": "ced59ae4",
   "metadata": {},
   "outputs": [],
   "source": [
    "reducer = umap.UMAP(n_components=2, random_state=42)\n",
    "umap_result = reducer.fit_transform(df)\n",
    "\n",
    "df_umap = pd.DataFrame(umap_result, columns=['UMAP-1', 'UMAP-2'])"
   ]
  },
  {
   "cell_type": "code",
   "execution_count": null,
   "id": "9ac4e691",
   "metadata": {},
   "outputs": [],
   "source": [
    "plt.figure(figsize=(8, 6))\n",
    "plt.title(\"UMAP projection\")\n",
    "sns.scatterplot(x='UMAP-1', y='UMAP-2', data=df_umap, s=40, alpha=0.7)\n",
    "plt.show()"
   ]
  },
  {
   "cell_type": "code",
   "execution_count": null,
   "id": "33517887",
   "metadata": {},
   "outputs": [],
   "source": [
    "kmeans = KMeans(n_clusters=5, random_state=42)\n",
    "kmeans_labels = kmeans.fit_predict(df)"
   ]
  },
  {
   "cell_type": "code",
   "execution_count": null,
   "id": "72da24eb",
   "metadata": {},
   "outputs": [],
   "source": [
    "dbscan = DBSCAN(eps=1.8, min_samples=10)\n",
    "dbscan_labels = dbscan.fit_predict(df)"
   ]
  },
  {
   "cell_type": "code",
   "execution_count": null,
   "id": "82d34208",
   "metadata": {},
   "outputs": [],
   "source": [
    "reducer = umap.UMAP(n_components=2, random_state=42)\n",
    "umap_result = reducer.fit_transform(df)"
   ]
  },
  {
   "cell_type": "code",
   "execution_count": null,
   "id": "1da901f3",
   "metadata": {},
   "outputs": [],
   "source": [
    "df_vis = pd.DataFrame(umap_result, columns=[\"UMAP1\", \"UMAP2\"])\n",
    "df_vis[\"KMeans\"] = kmeans_labels\n",
    "df_vis[\"DBSCAN\"] = dbscan_labels"
   ]
  },
  {
   "cell_type": "code",
   "execution_count": null,
   "id": "e240d5ec",
   "metadata": {},
   "outputs": [],
   "source": [
    "plt.figure(figsize=(12, 5))\n",
    "plt.subplot(1, 2, 1)\n",
    "sns.scatterplot(data=df_vis, x=\"UMAP1\", y=\"UMAP2\", hue=\"KMeans\", palette=\"Set2\", s=40)\n",
    "plt.title(\"KMeans Clustering (UMAP Projection)\")\n",
    "plt.legend(title=\"Cluster\", bbox_to_anchor=(1.05, 1), loc='upper left')"
   ]
  },
  {
   "cell_type": "code",
   "execution_count": null,
   "id": "9b6a94dc",
   "metadata": {},
   "outputs": [],
   "source": [
    "plt.subplot(1, 1, 1)\n",
    "sns.scatterplot(data=df_vis, x=\"UMAP1\", y=\"UMAP2\", hue=\"DBSCAN\", palette=\"tab10\", s=40)\n",
    "plt.title(\"DBSCAN Clustering (UMAP Projection)\")\n",
    "plt.legend(title=\"Cluster\", bbox_to_anchor=(1.05, 1), loc='upper left')\n",
    "\n",
    "plt.tight_layout()\n",
    "plt.show()"
   ]
  },
  {
   "cell_type": "code",
   "execution_count": null,
   "id": "25fde129",
   "metadata": {},
   "outputs": [],
   "source": [
    "df_clustered = df.copy()\n",
    "df_clustered['Cluster'] = kmeans_labels\n",
    "\n",
    "cluster_summary = df_clustered.groupby('Cluster').mean(numeric_only=True)\n",
    "print(\"📊 Cluster-wise Averages:\")\n",
    "print(cluster_summary)"
   ]
  },
  {
   "cell_type": "code",
   "execution_count": null,
   "id": "52b492fa",
   "metadata": {},
   "outputs": [],
   "source": [
    "from sklearn.metrics import silhouette_score\n",
    "score = silhouette_score(df, kmeans_labels)\n",
    "print(f\"📈 Silhouette Score for KMeans: {score:.3f}\")"
   ]
  }
 ],
 "metadata": {
  "kernelspec": {
   "display_name": "Python 3",
   "language": "python",
   "name": "python3"
  },
  "language_info": {
   "name": "python",
   "version": "3.12.1"
  }
 },
 "nbformat": 4,
 "nbformat_minor": 5
}
