{
 "cells": [
  {
   "cell_type": "code",
   "execution_count": null,
   "id": "f473d94d",
   "metadata": {},
   "outputs": [],
   "source": [
    "import pandas as pd\n",
    "import numpy as np\n",
    "import IPython.display as display\n",
    "from matplotlib import pyplot as plt\n",
    "import seaborn as sns\n",
    "import io\n",
    "import base64\n",
    "from sklearn.preprocessing import MinMaxScaler\n",
    "from sklearn.preprocessing import LabelEncoder\n",
    "from sklearn.model_selection import train_test_split\n",
    "from sklearn.linear_model import LinearRegression\n",
    "from sklearn.metrics import mean_squared_error, r2_score"
   ]
  },
  {
   "cell_type": "code",
   "execution_count": null,
   "id": "961f415a",
   "metadata": {},
   "outputs": [],
   "source": [
    "df=pd.read_csv('/content/vgsales.csv')"
   ]
  },
  {
   "cell_type": "code",
   "execution_count": null,
   "id": "43f04d09",
   "metadata": {},
   "outputs": [],
   "source": [
    "df.head()  #Let's see the data"
   ]
  },
  {
   "cell_type": "code",
   "execution_count": null,
   "id": "b6217af4",
   "metadata": {},
   "outputs": [],
   "source": [
    "df.shape  #Let's see its size"
   ]
  },
  {
   "cell_type": "code",
   "execution_count": null,
   "id": "cf0ecb34",
   "metadata": {},
   "outputs": [],
   "source": [
    "data=df.copy()  #take a part to avoid loss"
   ]
  },
  {
   "cell_type": "code",
   "execution_count": null,
   "id": "cb17bae5",
   "metadata": {},
   "outputs": [],
   "source": [
    "df.isnull().sum() #know the missing values"
   ]
  },
  {
   "cell_type": "code",
   "execution_count": null,
   "id": "f87e3c2a",
   "metadata": {},
   "outputs": [],
   "source": [
    "df.info()   #Data type"
   ]
  },
  {
   "cell_type": "code",
   "execution_count": null,
   "id": "315639ad",
   "metadata": {},
   "outputs": [],
   "source": [
    "df.drop('Year',axis=1, inplace=True) #delete it because it is not important"
   ]
  },
  {
   "cell_type": "code",
   "execution_count": null,
   "id": "2f52a0d2",
   "metadata": {},
   "outputs": [],
   "source": [
    "df.set_index('Rank', inplace=True)  #put it in the index place"
   ]
  },
  {
   "cell_type": "code",
   "execution_count": null,
   "id": "d5881b5e",
   "metadata": {},
   "outputs": [],
   "source": [
    "df.drop('Name',axis=1, inplace=True) #delete it because it is not important"
   ]
  },
  {
   "cell_type": "code",
   "execution_count": null,
   "id": "9d6b23e0",
   "metadata": {},
   "outputs": [],
   "source": [
    "df.head()"
   ]
  },
  {
   "cell_type": "code",
   "execution_count": null,
   "id": "9a33038d",
   "metadata": {},
   "outputs": [],
   "source": [
    "valid_values = df['Publisher'].dropna().values"
   ]
  },
  {
   "cell_type": "code",
   "execution_count": null,
   "id": "f2a8d671",
   "metadata": {},
   "outputs": [],
   "source": [
    "df['Publisher'] = df['Publisher'].fillna(\n",
    "    pd.Series(np.random.choice(valid_values, size=df['Publisher'].isna().sum()), index=df[df['Publisher'].isna()].index)\n",
    ")\n",
    "           #choose random values ​​to fill in the blank."
   ]
  },
  {
   "cell_type": "code",
   "execution_count": null,
   "id": "7fa08178",
   "metadata": {},
   "outputs": [],
   "source": [
    "df['Publisher'].isnull().sum()  #make sure it is filled out"
   ]
  },
  {
   "cell_type": "code",
   "execution_count": null,
   "id": "33ba4916",
   "metadata": {},
   "outputs": [],
   "source": [
    "df.head()"
   ]
  },
  {
   "cell_type": "code",
   "execution_count": null,
   "id": "4b8f126d",
   "metadata": {},
   "outputs": [],
   "source": [
    "df.drop_duplicates(inplace=True)  #wipe frequently"
   ]
  },
  {
   "cell_type": "code",
   "execution_count": null,
   "id": "4a65d87a",
   "metadata": {},
   "outputs": [],
   "source": [
    "numerical_features = df.select_dtypes(include=np.number).columns\n",
    "\n",
    "for feature in numerical_features:\n",
    "  plt.figure(figsize=(8, 6))\n",
    "  plt.boxplot(df[feature].dropna())       #know if it is in outlier or not?\n",
    "  plt.title(f\"Box Plot of {feature}\")\n",
    "  plt.ylabel(feature)\n",
    "  plt.show()"
   ]
  },
  {
   "cell_type": "code",
   "execution_count": null,
   "id": "086ff6a8",
   "metadata": {},
   "outputs": [],
   "source": [
    "le = LabelEncoder()\n",
    "df['Platform'] = le.fit_transform(df['Platform'])  #do encoding"
   ]
  },
  {
   "cell_type": "code",
   "execution_count": null,
   "id": "57ac0b4e",
   "metadata": {},
   "outputs": [],
   "source": [
    "le = LabelEncoder()\n",
    "df['Genre'] = le.fit_transform(df['Genre'])   #do encoding"
   ]
  },
  {
   "cell_type": "code",
   "execution_count": null,
   "id": "188c4735",
   "metadata": {},
   "outputs": [],
   "source": [
    "le = LabelEncoder()\n",
    "df['Publisher'] = le.fit_transform(df['Publisher'])   #do encoding"
   ]
  },
  {
   "cell_type": "code",
   "execution_count": null,
   "id": "40bcbcf2",
   "metadata": {},
   "outputs": [],
   "source": [
    "scaler = MinMaxScaler()\n",
    "df= scaler.fit_transform(df)   #do normalization"
   ]
  },
  {
   "cell_type": "code",
   "execution_count": null,
   "id": "f79c117f",
   "metadata": {},
   "outputs": [],
   "source": [
    "df=pd.DataFrame(df)   #change it to be in data frame shape"
   ]
  },
  {
   "cell_type": "code",
   "execution_count": null,
   "id": "0192bf0d",
   "metadata": {},
   "outputs": [],
   "source": [
    "plt.boxplot(df)\n",
    "plt.title('Boxplot of column_name')\n",
    "plt.ylabel('Values')       #make sure that normalization has occurred.\n",
    "plt.show()"
   ]
  },
  {
   "cell_type": "code",
   "execution_count": null,
   "id": "d87ca037",
   "metadata": {},
   "outputs": [],
   "source": [
    "df.head()"
   ]
  },
  {
   "cell_type": "code",
   "execution_count": null,
   "id": "08d97ef7",
   "metadata": {},
   "outputs": [],
   "source": [
    "df = df.rename(columns={0: 'Platform'})\n",
    "df = df.rename(columns={1: 'Genre'})\n",
    "df = df.rename(columns={2: 'Publisher'})\n",
    "df = df.rename(columns={3: 'NA_Sales'})\n",
    "df = df.rename(columns={4: 'EU_Sales'})\n",
    "df = df.rename(columns={5: 'JP_Sales'})\n",
    "df = df.rename(columns={6: 'Other_Sales'})\n",
    "df = df.rename(columns={7: 'Global_Sales'})"
   ]
  },
  {
   "cell_type": "code",
   "execution_count": null,
   "id": "62eafcc3",
   "metadata": {},
   "outputs": [],
   "source": [
    "corr_matrix = df.corr()\n",
    "sns.heatmap(corr_matrix, annot=True, cmap='coolwarm', linewidths=0.5)\n",
    "plt.title('Correlation Matrix Heatmap')                                # see the relationship between the variables.\n",
    "plt.show()"
   ]
  },
  {
   "cell_type": "code",
   "execution_count": null,
   "id": "c3fef5a1",
   "metadata": {},
   "outputs": [],
   "source": [
    "X = df.drop('Global_Sales', axis=1)\n",
    "y= df['Global_Sales']\n",
    " #store the input in X and the target in Y"
   ]
  },
  {
   "cell_type": "code",
   "execution_count": null,
   "id": "38891f22",
   "metadata": {},
   "outputs": [],
   "source": [
    "scaler = MinMaxScaler()\n",
    "X_scaled = scaler.fit_transform(X)        #do normalization"
   ]
  },
  {
   "cell_type": "code",
   "execution_count": null,
   "id": "6b229d26",
   "metadata": {},
   "outputs": [],
   "source": [
    "X_train, X_test, y_train, y_test = train_test_split(X, y, test_size=0.2, random_state=42)\n",
    " # divide the test and the train"
   ]
  },
  {
   "cell_type": "code",
   "execution_count": null,
   "id": "3b8f6501",
   "metadata": {},
   "outputs": [],
   "source": [
    "model = LinearRegression()   #make a fit for the model\n",
    "model.fit(X_train, y_train)"
   ]
  },
  {
   "cell_type": "code",
   "execution_count": null,
   "id": "1c2eebd8",
   "metadata": {},
   "outputs": [],
   "source": [
    "# Predict & evaluate\n",
    "from sklearn.metrics import r2_score\n",
    "y_train_pred = model.predict(X_train)\n",
    "y_test_pred = model.predict(X_test)"
   ]
  },
  {
   "cell_type": "code",
   "execution_count": null,
   "id": "9e52199a",
   "metadata": {},
   "outputs": [],
   "source": [
    "print(\"R² train:\", r2_score(y_train, y_train_pred))"
   ]
  },
  {
   "cell_type": "code",
   "execution_count": null,
   "id": "3004d321",
   "metadata": {},
   "outputs": [],
   "source": [
    "print(\"R² test:\", r2_score(y_test, y_test_pred))"
   ]
  },
  {
   "cell_type": "code",
   "execution_count": null,
   "id": "53e32f96",
   "metadata": {},
   "outputs": [],
   "source": [
    "print(\"Intercept:\", model.intercept_)\n",
    "print(\"Coefficients:\", model.coef_)"
   ]
  },
  {
   "cell_type": "code",
   "execution_count": null,
   "id": "644cfb83",
   "metadata": {},
   "outputs": [],
   "source": [
    "df['Global_Sales'].value_counts(normalize=True)"
   ]
  },
  {
   "cell_type": "code",
   "execution_count": null,
   "id": "d58bb2af",
   "metadata": {},
   "outputs": [],
   "source": [
    "\n",
    "residuals = y_test - y_test_pred\n",
    "\n",
    "plt.figure(figsize=(8,5))\n",
    "sns.scatterplot(x=y_test_pred, y=residuals)\n",
    "plt.axhline(0, color='red', linestyle='--')\n",
    "plt.xlabel('Predicted Values')\n",
    "plt.ylabel('Residuals')\n",
    "plt.title('Residual Plot')\n",
    "plt.show()\n"
   ]
  },
  {
   "cell_type": "code",
   "execution_count": null,
   "id": "89094578",
   "metadata": {},
   "outputs": [],
   "source": [
    "plt.figure(figsize=(6,6))\n",
    "sns.scatterplot(x=y_test, y=y_test_pred)\n",
    "plt.plot([y_test.min(), y_test.max()], [y_test.min(), y_test.max()], '--r')\n",
    "plt.xlabel('Actual')\n",
    "plt.ylabel('Predicted')\n",
    "plt.title('Actual vs Predicted')\n",
    "plt.show()"
   ]
  },
  {
   "cell_type": "code",
   "execution_count": null,
   "id": "42d1d419",
   "metadata": {},
   "outputs": [],
   "source": [
    "sns.histplot(residuals, kde=True)\n",
    "plt.title('Distribution of Residuals')\n",
    "plt.xlabel('Residual')\n",
    "plt.show()"
   ]
  }
 ],
 "metadata": {
  "kernelspec": {
   "display_name": "Python 3",
   "language": "python",
   "name": "python3"
  },
  "language_info": {
   "name": "python",
   "version": "3.12.1"
  }
 },
 "nbformat": 4,
 "nbformat_minor": 5
}
