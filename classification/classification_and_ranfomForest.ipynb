{
 "cells": [
  {
   "cell_type": "code",
   "execution_count": null,
   "id": "507f56ff",
   "metadata": {},
   "outputs": [],
   "source": [
    "import pandas as pd\n",
    "import numpy as np\n",
    "import matplotlib.pyplot as plt\n",
    "import seaborn as sns\n",
    "from sklearn.preprocessing import LabelEncoder\n",
    "\n",
    "from sklearn.datasets import make_classification\n",
    "from sklearn.linear_model import LogisticRegression\n",
    "from sklearn.model_selection import train_test_split\n",
    "from sklearn.metrics import classification_report, accuracy_score\n",
    "from sklearn.preprocessing import MinMaxScaler\n",
    "from sklearn.feature_selection import SelectKBest, f_classif\n",
    "from sklearn.ensemble import RandomForestClassifier\n",
    "from sklearn.metrics import accuracy_score, classification_report"
   ]
  },
  {
   "cell_type": "code",
   "execution_count": null,
   "id": "6f3aaa77",
   "metadata": {},
   "outputs": [],
   "source": [
    "df=pd.read_csv('/content/email_classification_data.csv')"
   ]
  },
  {
   "cell_type": "code",
   "execution_count": null,
   "id": "54ad783f",
   "metadata": {},
   "outputs": [],
   "source": [
    "df.head()"
   ]
  },
  {
   "cell_type": "code",
   "execution_count": null,
   "id": "6011256b",
   "metadata": {},
   "outputs": [],
   "source": [
    "df.shape"
   ]
  },
  {
   "cell_type": "code",
   "execution_count": null,
   "id": "a46b2818",
   "metadata": {},
   "outputs": [],
   "source": [
    "df.isnull().sum()"
   ]
  },
  {
   "cell_type": "code",
   "execution_count": null,
   "id": "009f72e4",
   "metadata": {},
   "outputs": [],
   "source": [
    "df.drop_duplicates"
   ]
  },
  {
   "cell_type": "code",
   "execution_count": null,
   "id": "e0bdbd4d",
   "metadata": {},
   "outputs": [],
   "source": [
    "df.boxplot()\n",
    "plt.show()\n",
    "#no outlier showen"
   ]
  },
  {
   "cell_type": "code",
   "execution_count": null,
   "id": "2a07c6cb",
   "metadata": {},
   "outputs": [],
   "source": [
    "#######MODELINGGGGGGG############"
   ]
  },
  {
   "cell_type": "code",
   "execution_count": null,
   "id": "54036ca3",
   "metadata": {},
   "outputs": [],
   "source": [
    "df['is_spam'].value_counts()  #unbalanced data "
   ]
  },
  {
   "cell_type": "code",
   "execution_count": null,
   "id": "6692be0d",
   "metadata": {},
   "outputs": [],
   "source": [
    "X=df.drop('is_spam',axis=1)\n",
    "y=df['is_spam']"
   ]
  },
  {
   "cell_type": "code",
   "execution_count": null,
   "id": "9afcf0e3",
   "metadata": {},
   "outputs": [],
   "source": [
    "X_train, X_test, y_train, y_test = train_test_split( X, y, test_size=0.3, random_state=42)"
   ]
  },
  {
   "cell_type": "code",
   "execution_count": null,
   "id": "2491cf5a",
   "metadata": {},
   "outputs": [],
   "source": [
    "model = LogisticRegression()\n",
    "model.fit(X_train, y_train)  #binary classification"
   ]
  },
  {
   "cell_type": "code",
   "execution_count": null,
   "id": "8b184c98",
   "metadata": {},
   "outputs": [],
   "source": [
    "y_pred = model.predict(X_test)"
   ]
  },
  {
   "cell_type": "code",
   "execution_count": null,
   "id": "b8e18d44",
   "metadata": {},
   "outputs": [],
   "source": [
    "print(\"Accuracy:\", accuracy_score(y_test, y_pred))  # fake accuracy because it is unbalanced "
   ]
  },
  {
   "cell_type": "code",
   "execution_count": null,
   "id": "c9b43a0b",
   "metadata": {},
   "outputs": [],
   "source": [
    "### try normalization###"
   ]
  },
  {
   "cell_type": "code",
   "execution_count": null,
   "id": "da003721",
   "metadata": {},
   "outputs": [],
   "source": [
    "scaler = MinMaxScaler()\n",
    "X_normalized = scaler.fit_transform(df)"
   ]
  },
  {
   "cell_type": "code",
   "execution_count": null,
   "id": "d066027c",
   "metadata": {},
   "outputs": [],
   "source": [
    "df=pd.DataFrame(X_normalized,columns=df.columns)"
   ]
  },
  {
   "cell_type": "code",
   "execution_count": null,
   "id": "fa08dae7",
   "metadata": {},
   "outputs": [],
   "source": [
    "X=df.drop('is_spam',axis=1)\n",
    "y=df['is_spam']\n",
    "X_train, X_test, y_train, y_test = train_test_split( X, y, test_size=0.3, random_state=42)\n",
    "model = LogisticRegression()\n",
    "model.fit(X_train, y_train)\n",
    "y_pred = model.predict(X_test)"
   ]
  },
  {
   "cell_type": "code",
   "execution_count": null,
   "id": "e38c4a15",
   "metadata": {},
   "outputs": [],
   "source": [
    "print(\"Accuracy:\", accuracy_score(y_test, y_pred))"
   ]
  },
  {
   "cell_type": "code",
   "execution_count": null,
   "id": "67862575",
   "metadata": {},
   "outputs": [],
   "source": [
    "# NO CHANGE AFTER normalization "
   ]
  },
  {
   "cell_type": "code",
   "execution_count": null,
   "id": "7d65457c",
   "metadata": {},
   "outputs": [],
   "source": [
    "#try to add new features"
   ]
  },
  {
   "cell_type": "code",
   "execution_count": null,
   "id": "7a9bb087",
   "metadata": {},
   "outputs": [],
   "source": [
    "selector = SelectKBest(score_func=f_classif, k=5)\n",
    "X_new = selector.fit_transform(X, y)\n",
    "\n",
    "print(\"Top 5 features:\", X.columns[selector.get_support()])"
   ]
  },
  {
   "cell_type": "code",
   "execution_count": null,
   "id": "670b09fe",
   "metadata": {},
   "outputs": [],
   "source": [
    "print(\"Accuracy:\", accuracy_score(y_test, y_pred))"
   ]
  },
  {
   "cell_type": "code",
   "execution_count": null,
   "id": "783cb5e2",
   "metadata": {},
   "outputs": [],
   "source": [
    "# NO CHANGE AFTER add features"
   ]
  },
  {
   "cell_type": "code",
   "execution_count": null,
   "id": "3dfa2207",
   "metadata": {},
   "outputs": [],
   "source": [
    "# try RandomForest model "
   ]
  },
  {
   "cell_type": "code",
   "execution_count": null,
   "id": "e380ec4b",
   "metadata": {},
   "outputs": [],
   "source": [
    "selector = SelectKBest(score_func=f_classif, k=10)\n",
    "X_selected = selector.fit_transform(X, y)"
   ]
  },
  {
   "cell_type": "code",
   "execution_count": null,
   "id": "beb35147",
   "metadata": {},
   "outputs": [],
   "source": [
    "X_train, X_test, y_train, y_test = train_test_split(X_selected, y, test_size=0.3, random_state=42)\n",
    "model = RandomForestClassifier(n_estimators=100, random_state=42)\n",
    "model.fit(X_train, y_train)"
   ]
  },
  {
   "cell_type": "code",
   "execution_count": null,
   "id": "8ed850cb",
   "metadata": {},
   "outputs": [],
   "source": [
    "y_pred = model.predict(X_test)"
   ]
  },
  {
   "cell_type": "code",
   "execution_count": null,
   "id": "bc376b43",
   "metadata": {},
   "outputs": [],
   "source": [
    "print(\"Accuracy after improvement:\", accuracy_score(y_test, y_pred))"
   ]
  },
  {
   "cell_type": "code",
   "execution_count": null,
   "id": "d4546c26",
   "metadata": {},
   "outputs": [],
   "source": [
    "print(\"Classification Report:\\n\", classification_report(y_test, y_pred))"
   ]
  },
  {
   "cell_type": "code",
   "execution_count": null,
   "id": "dbc80e43",
   "metadata": {},
   "outputs": [],
   "source": [
    "#RandomForestClassifier make it change it reduce Accuracy here but overall it better than  classification"
   ]
  }
 ],
 "metadata": {
  "kernelspec": {
   "display_name": "Python 3",
   "language": "python",
   "name": "python3"
  },
  "language_info": {
   "name": "python",
   "version": "3.12.1"
  }
 },
 "nbformat": 4,
 "nbformat_minor": 5
}
