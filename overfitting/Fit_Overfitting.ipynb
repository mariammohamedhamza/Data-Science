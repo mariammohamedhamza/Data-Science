{
 "cells": [
  {
   "cell_type": "code",
   "execution_count": null,
   "id": "2971c5c4",
   "metadata": {},
   "outputs": [],
   "source": [
    "import pandas as pd\n",
    "import numpy as np\n",
    "import matplotlib.pyplot as plt\n",
    "import seaborn as sns\n",
    "\n",
    "from sklearn.model_selection import train_test_split\n",
    "from sklearn.linear_model import LinearRegression\n",
    "from sklearn.metrics import mean_squared_error, r2_score\n",
    "\n",
    "from sklearn.linear_model import Ridge, Lasso\n",
    "from sklearn.feature_selection import SelectKBest, f_regression\n",
    "from sklearn.preprocessing import PolynomialFeatures\n",
    "from sklearn.model_selection import cross_val_score\n",
    "from sklearn.preprocessing import StandardScaler\n",
    "from sklearn.datasets import make_regression"
   ]
  },
  {
   "cell_type": "code",
   "execution_count": null,
   "id": "6e7fb8a9",
   "metadata": {},
   "outputs": [],
   "source": [
    "df=pd.read_csv(\"/content/student_performance_with_noise.csv\")"
   ]
  },
  {
   "cell_type": "code",
   "execution_count": null,
   "id": "07b983f1",
   "metadata": {},
   "outputs": [],
   "source": [
    "df.head()"
   ]
  },
  {
   "cell_type": "code",
   "execution_count": null,
   "id": "e110a4e9",
   "metadata": {},
   "outputs": [],
   "source": [
    "data=df.copy()"
   ]
  },
  {
   "cell_type": "code",
   "execution_count": null,
   "id": "81ed6f20",
   "metadata": {},
   "outputs": [],
   "source": [
    "df.shape"
   ]
  },
  {
   "cell_type": "code",
   "execution_count": null,
   "id": "e5380f6e",
   "metadata": {},
   "outputs": [],
   "source": [
    "df.info()"
   ]
  },
  {
   "cell_type": "code",
   "execution_count": null,
   "id": "1edbe083",
   "metadata": {},
   "outputs": [],
   "source": [
    "df.describe()"
   ]
  },
  {
   "cell_type": "code",
   "execution_count": null,
   "id": "3fbe9aeb",
   "metadata": {},
   "outputs": [],
   "source": [
    "df.isnull().sum()"
   ]
  },
  {
   "cell_type": "code",
   "execution_count": null,
   "id": "b6e1ae02",
   "metadata": {},
   "outputs": [],
   "source": [
    "X = df.drop('final_grade', axis=1)\n",
    "y = df['final_grade']  "
   ]
  },
  {
   "cell_type": "code",
   "execution_count": null,
   "id": "ddcd5753",
   "metadata": {},
   "outputs": [],
   "source": [
    "X_train, X_test, y_train, y_test = train_test_split(X, y, test_size=0.2, random_state=42)"
   ]
  },
  {
   "cell_type": "code",
   "execution_count": null,
   "id": "591e406d",
   "metadata": {},
   "outputs": [],
   "source": [
    "model = LinearRegression()\n",
    "model.fit(X_train, y_train) "
   ]
  },
  {
   "cell_type": "code",
   "execution_count": null,
   "id": "75958909",
   "metadata": {},
   "outputs": [],
   "source": [
    "pred = model.predict(X_test)\n",
    "mse = mean_squared_error(y_test, y_pred)  \n",
    "r2 = r2_score(y_test, y_pred) \n",
    "print(\"Mean Squared Error:\", mse)\n",
    "print(\"R² Score:\", r2)"
   ]
  },
  {
   "cell_type": "code",
   "execution_count": null,
   "id": "4c7ae8ab",
   "metadata": {},
   "outputs": [],
   "source": [
    "for feature, coef in zip(X.columns, model.coef_):\n",
    "    print(f\"{feature}: {coef:.2f}\")              "
   ]
  },
  {
   "cell_type": "code",
   "execution_count": null,
   "id": "f6cd5e91",
   "metadata": {},
   "outputs": [],
   "source": [
    "plt.scatter(y_test, y_pred)\n",
    "plt.xlabel(\"Actual Grades\")\n",
    "plt.ylabel(\"Predicted Grades\")\n",
    "plt.title(\"Actual vs Predicted Final Grades\")\n",
    "plt.plot([y_test.min(), y_test.max()], [y_test.min(), y_test.max()], 'r--')\n",
    "plt.show()"
   ]
  },
  {
   "cell_type": "code",
   "execution_count": null,
   "id": "ee1627b6",
   "metadata": {},
   "outputs": [],
   "source": [
    "from sklearn.metrics import r2_score\n",
    "y_train_pred = model.predict(X_train)\n",
    "r2_train = r2_score(y_train, y_train_pred)\n",
    "\n",
    "print(\"R² on training:\", r2_train)             \n",
    "print(\"R² on test:\", r2_score(y_test, y_pred))"
   ]
  },
  {
   "cell_type": "code",
   "execution_count": null,
   "id": "431cae8d",
   "metadata": {},
   "outputs": [],
   "source": [
    "models = {\n",
    "    \"LinearRegression\": LinearRegression(),\n",
    "    \"Ridge\": Ridge(alpha=1.0),            #اللاسو بتصفر الريدج بتقلل\n",
    "    \"Lasso\": Lasso(alpha=0.1, max_iter=10000)\n",
    "}"
   ]
  },
  {
   "cell_type": "code",
   "execution_count": null,
   "id": "74fd5827",
   "metadata": {},
   "outputs": [],
   "source": [
    "for name, model in models.items():\n",
    "    model.fit(X_train, y_train)\n",
    "\n",
    "    y_train_pred = model.predict(X_train)\n",
    "    y_test_pred = model.predict(X_test)\n",
    "\n",
    "    print(f\"--- {name} ---\")                     #بنجيب الاكيورسي بعد الريجوريزيشن\n",
    "    print(f\"R² on Training: {r2_score(y_train, y_train_pred):.4f}\")\n",
    "    print(f\"R² on Test: {r2_score(y_test, y_test_pred):.4f}\")\n",
    "    print(f\"MSE on Test: {mean_squared_error(y_test, y_test_pred):.4f}\")\n",
    "    print()"
   ]
  },
  {
   "cell_type": "code",
   "execution_count": null,
   "id": "e2245168",
   "metadata": {},
   "outputs": [],
   "source": [
    "r2_train_scores = []\n",
    "r2_test_scores = []\n",
    "mse_test_scores = []\n",
    "model_names = []\n",
    "\n",
    "for name, model in models.items():\n",
    "    model.fit(X_train, y_train)\n",
    "    y_train_pred = model.predict(X_train)\n",
    "    y_test_pred = model.predict(X_test)\n",
    "\n",
    "    r2_train_scores.append(r2_score(y_train, y_train_pred))\n",
    "    r2_test_scores.append(r2_score(y_test, y_test_pred))\n",
    "    mse_test_scores.append(mean_squared_error(y_test, y_test_pred))\n",
    "    model_names.append(name)\n",
    "x = np.arange(len(model_names))\n",
    "width = 0.25\n",
    "\n",
    "plt.figure(figsize=(10, 6))\n",
    "plt.bar(x - width, r2_train_scores, width=width, label='R² Train')\n",
    "plt.bar(x, r2_test_scores, width=width, label='R² Test')\n",
    "plt.bar(x + width, mse_test_scores, width=width, label='MSE Test')\n",
    "\n",
    "plt.xlabel('Model')\n",
    "plt.title('Model Performance Comparison')\n",
    "plt.xticks(x, model_names)\n",
    "plt.legend()\n",
    "plt.tight_layout()\n",
    "plt.show()"
   ]
  },
  {
   "cell_type": "code",
   "execution_count": null,
   "id": "10d2a7ab",
   "metadata": {},
   "outputs": [],
   "source": [
    "scaler = StandardScaler()\n",
    "X_train_scaled = scaler.fit_transform(X_train)\n",
    "X_test_scaled = scaler.transform(X_test)\n"
   ]
  },
  {
   "cell_type": "code",
   "execution_count": null,
   "id": "f5b244b5",
   "metadata": {},
   "outputs": [],
   "source": [
    "alphas = [0.001, 0.01, 0.1, 1, 10, 100]\n",
    "\n",
    "print(\"🔹 Lasso Results with Different Alpha:\")\n",
    "for alpha in alphas:\n",
    "    model = Lasso(alpha=alpha, max_iter=10000)      #علشان هي كمبلكس اكتر من الريدج\n",
    "    model.fit(X_train_scaled, y_train)\n",
    "    r2 = r2_score(y_test, model.predict(X_test_scaled))\n",
    "    print(f\"Lasso(alpha={alpha}): R² Test = {r2:.4f}\")\n",
    "\n",
    "print(\"\\n🔹 Ridge Results with Different Alpha:\")\n",
    "for alpha in alphas:\n",
    "    model = Ridge(alpha=alpha)\n",
    "    model.fit(X_train_scaled, y_train)\n",
    "    r2 = r2_score(y_test, model.predict(X_test_scaled))\n",
    "    print(f\"Ridge(alpha={alpha}): R² Test = {r2:.4f}\")"
   ]
  },
  {
   "cell_type": "code",
   "execution_count": null,
   "id": "6342b503",
   "metadata": {},
   "outputs": [],
   "source": [
    "X, y = make_regression(n_samples=100, n_features=5, noise=0.1)\n",
    "model = LinearRegression()\n",
    "cv_scores = cross_val_score(model, X, y, cv=5)            #ده كود الكورس فاليدشن\n",
    "print(f\"CV Scores (Linear Regression): {cv_scores}\")\n",
    "print(f\"Mean CV Score: {cv_scores.mean()}\")\n"
   ]
  },
  {
   "cell_type": "code",
   "execution_count": null,
   "id": "08f9cb29",
   "metadata": {},
   "outputs": [],
   "source": [
    "models = {\n",
    "    \"Linear Regression\": LinearRegression(),\n",
    "    \"Ridge Regression\": Ridge(alpha=1.0),\n",
    "    \"Lasso Regression\": Lasso(alpha=0.01, max_iter=10000)\n",
    "}\n",
    "\n",
    "#بنجيب الاكيورسي بتعهم بعد ما عالجنا الاوفرفيتنج\n",
    "best_score = -np.inf\n",
    "best_model_name = None\n",
    "\n",
    "print(\"Model Comparison:\\n\")\n",
    "for name, model in models.items():\n",
    "    scores = cross_val_score(model, X, y, cv=5, scoring='r2')\n",
    "    mean_score = scores.mean()\n",
    "    print(f\"{name} - CV Scores: {scores}\")\n",
    "    print(f\"Mean CV Score (R²): {mean_score:.8f}\\n\")\n",
    "\n",
    "    if mean_score > best_score:\n",
    "        best_score = mean_score\n",
    "        best_model_name = name\n",
    "\n",
    "print(\"=\"*50)\n",
    "print(f\"✅ Best Model: {best_model_name}\")\n",
    "print(f\"📈 Best Mean CV Score (R²): {best_score:.8f}\")\n",
    "print(\"=\"*50)"
   ]
  },
  {
   "cell_type": "code",
   "execution_count": null,
   "id": "4b306882",
   "metadata": {},
   "outputs": [],
   "source": [
    "models = ['Linear Regression', 'Polynomial Regression (deg=2)', 'Ridge Regression', 'Lasso Regression']\n",
    "mean_scores = [0.99999860, 0.99999831, 0.99984100, 0.99999853]\n",
    "best_index = mean_scores.index(max(mean_scores))\n",
    "colors = ['skyblue' if i != best_index else 'lightgreen' for i in range(len(models))]\n",
    "plt.figure(figsize=(10, 6))\n",
    "bars = plt.barh(models, mean_scores, color=colors)\n",
    "plt.xlim(0.99984, 1)\n",
    "plt.xlabel(\"Mean CV Score (R²)\")\n",
    "plt.title(\"Model Comparison - Mean Cross-Validation Score\")\n",
    "for bar, score in zip(bars, mean_scores):\n",
    "    xval = bar.get_width()\n",
    "    plt.text(xval + 0.000001, bar.get_y() + bar.get_height()/2, f\"{score:.8f}\", va='center', fontsize=10)\n",
    "\n",
    "plt.tight_layout()\n",
    "plt.show()\n"
   ]
  }
 ],
 "metadata": {
  "kernelspec": {
   "display_name": "Python 3",
   "language": "python",
   "name": "python3"
  },
  "language_info": {
   "name": "python",
   "version": "3.12.1"
  }
 },
 "nbformat": 4,
 "nbformat_minor": 5
}
